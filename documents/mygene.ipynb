{
 "cells": [
  {
   "cell_type": "code",
   "execution_count": 1,
   "id": "b63bc0ce-35ba-4a55-8d24-bd0d0f170c0f",
   "metadata": {},
   "outputs": [
    {
     "name": "stderr",
     "output_type": "stream",
     "text": [
      "Le chargement a nécessité le package : GenomicFeatures\n",
      "\n",
      "Le chargement a nécessité le package : BiocGenerics\n",
      "\n",
      "\n",
      "Attachement du package : ‘BiocGenerics’\n",
      "\n",
      "\n",
      "Les objets suivants sont masqués depuis ‘package:stats’:\n",
      "\n",
      "    IQR, mad, sd, var, xtabs\n",
      "\n",
      "\n",
      "Les objets suivants sont masqués depuis ‘package:base’:\n",
      "\n",
      "    anyDuplicated, append, as.data.frame, basename, cbind, colnames,\n",
      "    dirname, do.call, duplicated, eval, evalq, Filter, Find, get, grep,\n",
      "    grepl, intersect, is.unsorted, lapply, Map, mapply, match, mget,\n",
      "    order, paste, pmax, pmax.int, pmin, pmin.int, Position, rank,\n",
      "    rbind, Reduce, rownames, sapply, setdiff, sort, table, tapply,\n",
      "    union, unique, unsplit, which.max, which.min\n",
      "\n",
      "\n",
      "Le chargement a nécessité le package : S4Vectors\n",
      "\n",
      "Le chargement a nécessité le package : stats4\n",
      "\n",
      "\n",
      "Attachement du package : ‘S4Vectors’\n",
      "\n",
      "\n",
      "Les objets suivants sont masqués depuis ‘package:base’:\n",
      "\n",
      "    expand.grid, I, unname\n",
      "\n",
      "\n",
      "Le chargement a nécessité le package : IRanges\n",
      "\n",
      "Le chargement a nécessité le package : GenomeInfoDb\n",
      "\n",
      "Le chargement a nécessité le package : GenomicRanges\n",
      "\n",
      "Le chargement a nécessité le package : AnnotationDbi\n",
      "\n",
      "Le chargement a nécessité le package : Biobase\n",
      "\n",
      "Welcome to Bioconductor\n",
      "\n",
      "    Vignettes contain introductory material; view with\n",
      "    'browseVignettes()'. To cite Bioconductor, see\n",
      "    'citation(\"Biobase\")', and for packages 'citation(\"pkgname\")'.\n",
      "\n",
      "\n"
     ]
    }
   ],
   "source": [
    "# load libraries\n",
    "library(xlsx)\n",
    "library(mygene)"
   ]
  },
  {
   "cell_type": "code",
   "execution_count": 2,
   "id": "935528d5-c683-4da3-a7c1-ad9de93743e1",
   "metadata": {},
   "outputs": [],
   "source": [
    "# define input and output file\n",
    "input <- \"~/Documents/Plateforme_BI/OneTimeHelp/Delara_Kim/GEX P1 kim.xlsx\"\n",
    "output <- \"~/Documents/Plateforme_BI/OneTimeHelp/Delara_Kim/GEX_P1_kim_refseq.xlsx\""
   ]
  },
  {
   "cell_type": "code",
   "execution_count": 3,
   "id": "e6f1c0eb-301f-4bfe-a94e-57a4ac296e28",
   "metadata": {},
   "outputs": [],
   "source": [
    "# read input file\n",
    "table <- read.xlsx2(input, sheetIndex=1, header=TRUE, colClasses=\"character\")"
   ]
  },
  {
   "cell_type": "code",
   "execution_count": 4,
   "id": "5f8d68be-8856-4d29-a639-b5380dd6a6b9",
   "metadata": {},
   "outputs": [
    {
     "data": {
      "text/html": [
       "<table class=\"dataframe\">\n",
       "<caption>A data.frame: 6 × 2</caption>\n",
       "<thead>\n",
       "\t<tr><th></th><th scope=col>FeatureID</th><th scope=col>FeatureName</th></tr>\n",
       "\t<tr><th></th><th scope=col>&lt;chr&gt;</th><th scope=col>&lt;chr&gt;</th></tr>\n",
       "</thead>\n",
       "<tbody>\n",
       "\t<tr><th scope=row>1</th><td>ENSMUSG00000012428</td><td>Steap4 </td></tr>\n",
       "\t<tr><th scope=row>2</th><td>ENSMUSG00000026822</td><td>Lcn2   </td></tr>\n",
       "\t<tr><th scope=row>3</th><td>ENSMUSG00000035385</td><td>Ccl2   </td></tr>\n",
       "\t<tr><th scope=row>4</th><td>ENSMUSG00000029380</td><td>Cxcl1  </td></tr>\n",
       "\t<tr><th scope=row>5</th><td>ENSMUSG00000097804</td><td>Gm16685</td></tr>\n",
       "\t<tr><th scope=row>6</th><td>ENSMUSG00000035373</td><td>Ccl7   </td></tr>\n",
       "</tbody>\n",
       "</table>\n"
      ],
      "text/latex": [
       "A data.frame: 6 × 2\n",
       "\\begin{tabular}{r|ll}\n",
       "  & FeatureID & FeatureName\\\\\n",
       "  & <chr> & <chr>\\\\\n",
       "\\hline\n",
       "\t1 & ENSMUSG00000012428 & Steap4 \\\\\n",
       "\t2 & ENSMUSG00000026822 & Lcn2   \\\\\n",
       "\t3 & ENSMUSG00000035385 & Ccl2   \\\\\n",
       "\t4 & ENSMUSG00000029380 & Cxcl1  \\\\\n",
       "\t5 & ENSMUSG00000097804 & Gm16685\\\\\n",
       "\t6 & ENSMUSG00000035373 & Ccl7   \\\\\n",
       "\\end{tabular}\n"
      ],
      "text/markdown": [
       "\n",
       "A data.frame: 6 × 2\n",
       "\n",
       "| <!--/--> | FeatureID &lt;chr&gt; | FeatureName &lt;chr&gt; |\n",
       "|---|---|---|\n",
       "| 1 | ENSMUSG00000012428 | Steap4  |\n",
       "| 2 | ENSMUSG00000026822 | Lcn2    |\n",
       "| 3 | ENSMUSG00000035385 | Ccl2    |\n",
       "| 4 | ENSMUSG00000029380 | Cxcl1   |\n",
       "| 5 | ENSMUSG00000097804 | Gm16685 |\n",
       "| 6 | ENSMUSG00000035373 | Ccl7    |\n",
       "\n"
      ],
      "text/plain": [
       "  FeatureID          FeatureName\n",
       "1 ENSMUSG00000012428 Steap4     \n",
       "2 ENSMUSG00000026822 Lcn2       \n",
       "3 ENSMUSG00000035385 Ccl2       \n",
       "4 ENSMUSG00000029380 Cxcl1      \n",
       "5 ENSMUSG00000097804 Gm16685    \n",
       "6 ENSMUSG00000035373 Ccl7       "
      ]
     },
     "metadata": {},
     "output_type": "display_data"
    }
   ],
   "source": [
    "head(table)"
   ]
  },
  {
   "cell_type": "code",
   "execution_count": 5,
   "id": "e8579ac8-c3a6-47cb-ac98-29a4f75554ac",
   "metadata": {},
   "outputs": [
    {
     "name": "stdout",
     "output_type": "stream",
     "text": [
      "Finished\n"
     ]
    }
   ],
   "source": [
    "# add a column with RefSeq ID: \n",
    "# https://docs.mygene.info/en/latest/doc/query_service.html#available_field\n",
    "# https://www.bioconductor.org/packages/devel/bioc/vignettes/mygene/inst/doc/mygene.pdf\n",
    "\n",
    "refseq <- queryMany(table$FeatureID, scopes=\"ensembl.gene\", fields=\"refseq\")"
   ]
  },
  {
   "cell_type": "code",
   "execution_count": 6,
   "id": "19fa53f9-9b5f-4dfc-afb3-bcd31c62d78d",
   "metadata": {},
   "outputs": [
    {
     "data": {
      "text/plain": [
       "DataFrame with 6 rows and 7 columns\n",
       "               query         _id   X_score refseq.genomic refseq.protein\n",
       "         <character> <character> <numeric>         <list>         <list>\n",
       "1 ENSMUSG00000012428      117167   20.8205    NC_000071.7    NP_473439.2\n",
       "2 ENSMUSG00000026822       16819   20.2183    NC_000068.8    NP_032517.1\n",
       "3 ENSMUSG00000035385       20296   20.2185    NC_000077.7    NP_035463.1\n",
       "4 ENSMUSG00000029380       14825   20.4823    NC_000071.7    NP_032202.1\n",
       "5 ENSMUSG00000097804   102634900   20.4886    NC_000069.7               \n",
       "6 ENSMUSG00000035373       20306   20.8277    NC_000077.7    NP_038682.1\n",
       "   refseq.rna      refseq.translation\n",
       "       <list>                  <list>\n",
       "1 NM_054098.3 NP_473439.2,NM_054098.3\n",
       "2 NM_008491.1 NP_032517.1,NM_008491.1\n",
       "3 NM_011333.3 NP_035463.1,NM_011333.3\n",
       "4 NM_008176.3 NP_032202.1,NM_008176.3\n",
       "5 NR_168341.1                        \n",
       "6 NM_013654.3 NP_038682.1,NM_013654.3"
      ]
     },
     "metadata": {},
     "output_type": "display_data"
    }
   ],
   "source": [
    "head(refseq)"
   ]
  },
  {
   "cell_type": "code",
   "execution_count": 7,
   "id": "96cbbd19-3805-4be1-aeff-af25c8523947",
   "metadata": {},
   "outputs": [
    {
     "name": "stdout",
     "output_type": "stream",
     "text": [
      "Finished\n"
     ]
    }
   ],
   "source": [
    "rna <- queryMany(table$FeatureID, scopes=\"ensembl.gene\", fields=\"refseq.rna\")"
   ]
  },
  {
   "cell_type": "code",
   "execution_count": 8,
   "id": "ac2d4214-d4aa-45d0-895b-71c43d120cc4",
   "metadata": {},
   "outputs": [
    {
     "data": {
      "text/plain": [
       "DataFrame with 6 rows and 4 columns\n",
       "               query         _id   X_score  refseq.rna\n",
       "         <character> <character> <numeric>      <list>\n",
       "1 ENSMUSG00000012428      117167   20.4886 NM_054098.3\n",
       "2 ENSMUSG00000026822       16819   20.2185 NM_008491.1\n",
       "3 ENSMUSG00000035385       20296   20.2186 NM_011333.3\n",
       "4 ENSMUSG00000029380       14825   20.4823 NM_008176.3\n",
       "5 ENSMUSG00000097804   102634900   20.4888 NR_168341.1\n",
       "6 ENSMUSG00000035373       20306   20.8205 NM_013654.3"
      ]
     },
     "metadata": {},
     "output_type": "display_data"
    }
   ],
   "source": [
    "head(rna)"
   ]
  },
  {
   "cell_type": "code",
   "execution_count": 9,
   "id": "dfd5b159-f80b-4edb-9e9b-1e8fdde5c4e2",
   "metadata": {},
   "outputs": [],
   "source": [
    "# add a col with refseq.rna\n",
    "table$refseq.rna <- rna$refseq.rna"
   ]
  },
  {
   "cell_type": "code",
   "execution_count": 10,
   "id": "3102cef9-4383-4707-b55f-9bb17c637932",
   "metadata": {},
   "outputs": [
    {
     "data": {
      "text/html": [
       "<table class=\"dataframe\">\n",
       "<caption>A data.frame: 6 × 3</caption>\n",
       "<thead>\n",
       "\t<tr><th></th><th scope=col>FeatureID</th><th scope=col>FeatureName</th><th scope=col>refseq.rna</th></tr>\n",
       "\t<tr><th></th><th scope=col>&lt;chr&gt;</th><th scope=col>&lt;chr&gt;</th><th scope=col>&lt;list&gt;</th></tr>\n",
       "</thead>\n",
       "<tbody>\n",
       "\t<tr><th scope=row>1</th><td>ENSMUSG00000012428</td><td>Steap4 </td><td>NM_054098.3</td></tr>\n",
       "\t<tr><th scope=row>2</th><td>ENSMUSG00000026822</td><td>Lcn2   </td><td>NM_008491.1</td></tr>\n",
       "\t<tr><th scope=row>3</th><td>ENSMUSG00000035385</td><td>Ccl2   </td><td>NM_011333.3</td></tr>\n",
       "\t<tr><th scope=row>4</th><td>ENSMUSG00000029380</td><td>Cxcl1  </td><td>NM_008176.3</td></tr>\n",
       "\t<tr><th scope=row>5</th><td>ENSMUSG00000097804</td><td>Gm16685</td><td>NR_168341.1</td></tr>\n",
       "\t<tr><th scope=row>6</th><td>ENSMUSG00000035373</td><td>Ccl7   </td><td>NM_013654.3</td></tr>\n",
       "</tbody>\n",
       "</table>\n"
      ],
      "text/latex": [
       "A data.frame: 6 × 3\n",
       "\\begin{tabular}{r|lll}\n",
       "  & FeatureID & FeatureName & refseq.rna\\\\\n",
       "  & <chr> & <chr> & <list>\\\\\n",
       "\\hline\n",
       "\t1 & ENSMUSG00000012428 & Steap4  & NM\\_054098.3\\\\\n",
       "\t2 & ENSMUSG00000026822 & Lcn2    & NM\\_008491.1\\\\\n",
       "\t3 & ENSMUSG00000035385 & Ccl2    & NM\\_011333.3\\\\\n",
       "\t4 & ENSMUSG00000029380 & Cxcl1   & NM\\_008176.3\\\\\n",
       "\t5 & ENSMUSG00000097804 & Gm16685 & NR\\_168341.1\\\\\n",
       "\t6 & ENSMUSG00000035373 & Ccl7    & NM\\_013654.3\\\\\n",
       "\\end{tabular}\n"
      ],
      "text/markdown": [
       "\n",
       "A data.frame: 6 × 3\n",
       "\n",
       "| <!--/--> | FeatureID &lt;chr&gt; | FeatureName &lt;chr&gt; | refseq.rna &lt;list&gt; |\n",
       "|---|---|---|---|\n",
       "| 1 | ENSMUSG00000012428 | Steap4  | NM_054098.3 |\n",
       "| 2 | ENSMUSG00000026822 | Lcn2    | NM_008491.1 |\n",
       "| 3 | ENSMUSG00000035385 | Ccl2    | NM_011333.3 |\n",
       "| 4 | ENSMUSG00000029380 | Cxcl1   | NM_008176.3 |\n",
       "| 5 | ENSMUSG00000097804 | Gm16685 | NR_168341.1 |\n",
       "| 6 | ENSMUSG00000035373 | Ccl7    | NM_013654.3 |\n",
       "\n"
      ],
      "text/plain": [
       "  FeatureID          FeatureName refseq.rna \n",
       "1 ENSMUSG00000012428 Steap4      NM_054098.3\n",
       "2 ENSMUSG00000026822 Lcn2        NM_008491.1\n",
       "3 ENSMUSG00000035385 Ccl2        NM_011333.3\n",
       "4 ENSMUSG00000029380 Cxcl1       NM_008176.3\n",
       "5 ENSMUSG00000097804 Gm16685     NR_168341.1\n",
       "6 ENSMUSG00000035373 Ccl7        NM_013654.3"
      ]
     },
     "metadata": {},
     "output_type": "display_data"
    }
   ],
   "source": [
    "head(table)"
   ]
  },
  {
   "cell_type": "code",
   "execution_count": 11,
   "id": "c2622d3c-4029-49b0-8c8c-a758a40b7fa2",
   "metadata": {},
   "outputs": [
    {
     "name": "stdout",
     "output_type": "stream",
     "text": [
      "Finished\n"
     ]
    }
   ],
   "source": [
    "genomic <- queryMany(table$FeatureID, scopes=\"ensembl.gene\", fields=\"refseq.genomic\")"
   ]
  },
  {
   "cell_type": "code",
   "execution_count": 12,
   "id": "8c76acb9-43aa-4feb-88bb-6d688591a05a",
   "metadata": {},
   "outputs": [],
   "source": [
    "# Add a col with refseq.genomic\n",
    "table$refseq.genomic <- genomic$refseq.genomic"
   ]
  },
  {
   "cell_type": "code",
   "execution_count": 13,
   "id": "f953b11b-c1f8-4f55-8903-92fcc78bcb08",
   "metadata": {},
   "outputs": [
    {
     "data": {
      "text/html": [
       "<table class=\"dataframe\">\n",
       "<caption>A data.frame: 6 × 4</caption>\n",
       "<thead>\n",
       "\t<tr><th></th><th scope=col>FeatureID</th><th scope=col>FeatureName</th><th scope=col>refseq.rna</th><th scope=col>refseq.genomic</th></tr>\n",
       "\t<tr><th></th><th scope=col>&lt;chr&gt;</th><th scope=col>&lt;chr&gt;</th><th scope=col>&lt;list&gt;</th><th scope=col>&lt;list&gt;</th></tr>\n",
       "</thead>\n",
       "<tbody>\n",
       "\t<tr><th scope=row>1</th><td>ENSMUSG00000012428</td><td>Steap4 </td><td>NM_054098.3</td><td>NC_000071.7</td></tr>\n",
       "\t<tr><th scope=row>2</th><td>ENSMUSG00000026822</td><td>Lcn2   </td><td>NM_008491.1</td><td>NC_000068.8</td></tr>\n",
       "\t<tr><th scope=row>3</th><td>ENSMUSG00000035385</td><td>Ccl2   </td><td>NM_011333.3</td><td>NC_000077.7</td></tr>\n",
       "\t<tr><th scope=row>4</th><td>ENSMUSG00000029380</td><td>Cxcl1  </td><td>NM_008176.3</td><td>NC_000071.7</td></tr>\n",
       "\t<tr><th scope=row>5</th><td>ENSMUSG00000097804</td><td>Gm16685</td><td>NR_168341.1</td><td>NC_000069.7</td></tr>\n",
       "\t<tr><th scope=row>6</th><td>ENSMUSG00000035373</td><td>Ccl7   </td><td>NM_013654.3</td><td>NC_000077.7</td></tr>\n",
       "</tbody>\n",
       "</table>\n"
      ],
      "text/latex": [
       "A data.frame: 6 × 4\n",
       "\\begin{tabular}{r|llll}\n",
       "  & FeatureID & FeatureName & refseq.rna & refseq.genomic\\\\\n",
       "  & <chr> & <chr> & <list> & <list>\\\\\n",
       "\\hline\n",
       "\t1 & ENSMUSG00000012428 & Steap4  & NM\\_054098.3 & NC\\_000071.7\\\\\n",
       "\t2 & ENSMUSG00000026822 & Lcn2    & NM\\_008491.1 & NC\\_000068.8\\\\\n",
       "\t3 & ENSMUSG00000035385 & Ccl2    & NM\\_011333.3 & NC\\_000077.7\\\\\n",
       "\t4 & ENSMUSG00000029380 & Cxcl1   & NM\\_008176.3 & NC\\_000071.7\\\\\n",
       "\t5 & ENSMUSG00000097804 & Gm16685 & NR\\_168341.1 & NC\\_000069.7\\\\\n",
       "\t6 & ENSMUSG00000035373 & Ccl7    & NM\\_013654.3 & NC\\_000077.7\\\\\n",
       "\\end{tabular}\n"
      ],
      "text/markdown": [
       "\n",
       "A data.frame: 6 × 4\n",
       "\n",
       "| <!--/--> | FeatureID &lt;chr&gt; | FeatureName &lt;chr&gt; | refseq.rna &lt;list&gt; | refseq.genomic &lt;list&gt; |\n",
       "|---|---|---|---|---|\n",
       "| 1 | ENSMUSG00000012428 | Steap4  | NM_054098.3 | NC_000071.7 |\n",
       "| 2 | ENSMUSG00000026822 | Lcn2    | NM_008491.1 | NC_000068.8 |\n",
       "| 3 | ENSMUSG00000035385 | Ccl2    | NM_011333.3 | NC_000077.7 |\n",
       "| 4 | ENSMUSG00000029380 | Cxcl1   | NM_008176.3 | NC_000071.7 |\n",
       "| 5 | ENSMUSG00000097804 | Gm16685 | NR_168341.1 | NC_000069.7 |\n",
       "| 6 | ENSMUSG00000035373 | Ccl7    | NM_013654.3 | NC_000077.7 |\n",
       "\n"
      ],
      "text/plain": [
       "  FeatureID          FeatureName refseq.rna  refseq.genomic\n",
       "1 ENSMUSG00000012428 Steap4      NM_054098.3 NC_000071.7   \n",
       "2 ENSMUSG00000026822 Lcn2        NM_008491.1 NC_000068.8   \n",
       "3 ENSMUSG00000035385 Ccl2        NM_011333.3 NC_000077.7   \n",
       "4 ENSMUSG00000029380 Cxcl1       NM_008176.3 NC_000071.7   \n",
       "5 ENSMUSG00000097804 Gm16685     NR_168341.1 NC_000069.7   \n",
       "6 ENSMUSG00000035373 Ccl7        NM_013654.3 NC_000077.7   "
      ]
     },
     "metadata": {},
     "output_type": "display_data"
    }
   ],
   "source": [
    "head(table)"
   ]
  },
  {
   "cell_type": "code",
   "execution_count": 14,
   "id": "6ac13c4a-7bb6-4664-9171-7a9fb9d155a5",
   "metadata": {},
   "outputs": [],
   "source": [
    "# export in xlsx files\n",
    "write.xlsx2(table, output, sheetName=\"Sheet1\", col.names=TRUE, row.names=FALSE, append=FALSE)"
   ]
  },
  {
   "cell_type": "code",
   "execution_count": null,
   "id": "e525e137-2e7a-41e6-b6a8-5f47b4edf338",
   "metadata": {},
   "outputs": [],
   "source": []
  }
 ],
 "metadata": {
  "kernelspec": {
   "display_name": "R",
   "language": "R",
   "name": "ir"
  },
  "language_info": {
   "codemirror_mode": "r",
   "file_extension": ".r",
   "mimetype": "text/x-r-source",
   "name": "R",
   "pygments_lexer": "r",
   "version": "4.2.0"
  }
 },
 "nbformat": 4,
 "nbformat_minor": 5
}
