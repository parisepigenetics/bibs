{
 "cells": [
  {
   "cell_type": "markdown",
   "id": "17f057dc-6f5e-42d5-9c19-cf2e59eda1d3",
   "metadata": {},
   "source": [
    "# Methylation analysis\n",
    "from https://labs.epi2me.io/notebooks/Modified_Base_Tutorial.html\n"
   ]
  },
  {
   "cell_type": "markdown",
   "id": "e4a6468b-e9af-4f5a-8d27-35de1389454f",
   "metadata": {},
   "source": [
    "**It is necessary to merge the bam files first and make a BED file of the modified bases.** \n",
    "\n",
    "To do so, copy the bam files to iPOP-UP server and run `modbam2bed.sh`. You obtain a file named `SAMPLE_Merged.cpg.bed`. Copy this file to IFB cluster before running the notebook.  \n",
    "\n",
    "**Be sure to choose the kernel `nanopore_analysis` (upper right) to run this notebook.**"
   ]
  },
  {
   "cell_type": "markdown",
   "id": "20f3ee02-05d7-494b-865f-4e95e5fb199f",
   "metadata": {},
   "source": [
    "## Summarising the data"
   ]
  },
  {
   "cell_type": "code",
   "execution_count": null,
   "id": "93207e1e-8da2-41e8-956a-cb61662603ff",
   "metadata": {
    "tags": []
   },
   "outputs": [],
   "source": [
    "# Modified base summary parsing (click play)\n",
    "import pandas as pd\n",
    "bedmethyl = \"PATHto/SAMPLE_Merged.cpg.bed\"   ### in principle the only line to adapt to your run. \n",
    "methdata = pd.read_csv(\n",
    "    bedmethyl, sep='\\t',\n",
    "    header=None,\n",
    "    names=[\"chrom\", \"start\", \"end\", \"name\", \"score\", \"strand\", \"tstart\", \"tend\", \"color\", \"coverage\", \"freq\", \"canon\", \"mod\", \"filt\"])\n",
    "methdata.head()"
   ]
  },
  {
   "cell_type": "code",
   "execution_count": null,
   "id": "a9a003be-7654-482f-af52-8910e5642a69",
   "metadata": {
    "tags": []
   },
   "outputs": [],
   "source": [
    "# Coverage plot code (click play)\n",
    "import aplanat\n",
    "from aplanat import hist\n",
    "\n",
    "names = ('fwd', 'rev')\n",
    "fwdmeth = methdata.loc[methdata['strand'] == \"+\"]\n",
    "revmeth = methdata.loc[methdata['strand'] == \"-\"]\n",
    "plot = hist.histogram(\n",
    "    [x[\"coverage\"] for x in (fwdmeth, revmeth)], names=names,\n",
    "    colors=['maroon', 'darkolivegreen'],\n",
    "    binwidth=1, style='line', title='Coverage distribution',\n",
    "    xlim=(0,20))\n",
    "plot.xaxis.axis_label = 'coverage'\n",
    "plot.yaxis.axis_label = 'frequency'\n",
    "aplanat.show(plot, background='#F4F4F4')"
   ]
  },
  {
   "cell_type": "code",
   "execution_count": null,
   "id": "531d835e-9fc8-4e64-92f0-59d95421b444",
   "metadata": {
    "tags": []
   },
   "outputs": [],
   "source": [
    "# Methylation summary plot code (click play)\n",
    "coverage_mask =  10\n",
    "\n",
    "from bokeh.layouts import gridplot\n",
    "from aplanat import annot\n",
    "\n",
    "# join the reverse to the fwd assuming sites are one apart\n",
    "# NOTE: we could just use the aggregated results from modbam2bed\n",
    "print(\"Joining forward and reverse strand joins assuming 1-base offset.\")\n",
    "tmp = revmeth.copy()\n",
    "tmp['start'] -= 1\n",
    "tmp['end'] -= 1\n",
    "methjoin = pd.merge(fwdmeth, tmp, on=(\"chrom\", \"start\"), suffixes=(\".fwd\", \".rev\"))\n",
    "methjoin[\"coverage\"] = methjoin[\"coverage.fwd\"] + methjoin[\"coverage.rev\"]\n",
    "\n",
    "# proportion by site (modified by MH)\n",
    "p1 = hist.histogram(\n",
    "    [methdata['freq'].dropna()],\n",
    "    colors=['steelblue'], xlim=(-5, 105),\n",
    "    bins=20, title='Methylation proportion by site')\n",
    "p1.xaxis.axis_label = 'methylation proportion'\n",
    "p1.yaxis.axis_label = 'frequency'\n",
    "\n",
    "# strand bias - remove the trivial case\n",
    "bias = methjoin['freq.fwd'] - methjoin['freq.rev']\n",
    "bias = bias.loc[(bias<50) & (bias>-50)]\n",
    "p2 = hist.histogram(\n",
    "    [bias], colors=['steelblue'], bins=20,\n",
    "    title=\"Methylation strand bias by site.\")\n",
    "p2.xaxis.axis_label = '(fwd. meth. prop.) - (rev. meth. prop.)'\n",
    "p2.yaxis.axis_label = 'frequency'\n",
    "\n",
    "aplanat.show(gridplot([[p1, p2]]) , background='#F4F4F4')"
   ]
  },
  {
   "cell_type": "code",
   "execution_count": null,
   "id": "43e73c39-0464-4b0a-b4ec-cb10f79f6f3f",
   "metadata": {
    "tags": []
   },
   "outputs": [],
   "source": [
    "# Coverage plot code\n",
    "from aplanat import points\n",
    "import ipywidgets as widgets\n",
    "from epi2melabs.notebook import InputForm, InputSpec\n",
    "\n",
    "\n",
    "def plot_callback(inputs):\n",
    "    try:\n",
    "        chrom, coords = inputs.region.split(\":\")\n",
    "        start, stop = (int(x) for x in coords.split(\"-\"))\n",
    "    except Exception as e:\n",
    "        print('Cannot parse region as \"chrom:start-stop\".')\n",
    "\n",
    "    # filter data by inputs\n",
    "    select = (\n",
    "        (methjoin['coverage'] >= inputs.coverage_mask) &\n",
    "        (methjoin['chrom'] == chrom) & \n",
    "        (methjoin['start'] > start) & \n",
    "        (methjoin['start'] < stop))\n",
    "    d = methjoin.loc[select]\n",
    "\n",
    "    def down_sample(df, plot_limit=350000):\n",
    "        # if we have a lot of points, remove some to avoid bokeh dying.\n",
    "        if len(df) > plot_limit:\n",
    "            display(\"Warning: Downsampling points to {} entries. Select a smaller region to show all points.\".format(plot_limit))\n",
    "            df = df.sample(n=plot_limit)\n",
    "        else:\n",
    "            display(\"Showing all sites.\")\n",
    "        return df\n",
    "\n",
    "    # create a plot\n",
    "    title = '{} coverage'.format(inputs.region)\n",
    "\n",
    "    if inputs.colour_by == \"orientation\":\n",
    "        d = down_sample(d, plot_limit=350000)\n",
    "        xs = [d['start']] * 2\n",
    "        ys = [d['coverage.fwd'], -d['coverage.rev']]\n",
    "        colors=['maroon', 'orange']\n",
    "        names=['fwd', 'rev']\n",
    "    elif inputs.colour_by == \"mod. status\":\n",
    "        d = down_sample(d, plot_limit=350000)\n",
    "        xs = [d['start']] * 2\n",
    "        ys = [\n",
    "            +d['mod.fwd'] + d['mod.rev'],\n",
    "            -d['canon.rev'] - d['canon.rev']]\n",
    "        colors = ['blue', 'green']\n",
    "        names = ['modified', 'canonical']\n",
    "    elif inputs.colour_by == \"both\":\n",
    "        d = down_sample(d, plot_limit=125000)\n",
    "        xs = [d['start']] * 4\n",
    "        title += ' Positive: fwd strand, Negative: rev strand'\n",
    "        ys = [\n",
    "            +d['mod.fwd'], +d['canon.fwd'],\n",
    "            -d['mod.rev'], -d['canon.fwd']]\n",
    "        colors = ['blue', 'green', 'blue', 'green']\n",
    "        names = ['modified', 'canonical', None, None] \n",
    "    else:\n",
    "        raise ValueError(\"Unrecognised 'colour_by'.\")\n",
    "\n",
    "    plot = points.points(\n",
    "        xs, ys, colors=colors, names=names, height=300, width=1200, ylim=(-15,15))\n",
    "    plot.xaxis.formatter.use_scientific = False\n",
    "    plot.xaxis.axis_label = 'position'\n",
    "    plot.yaxis.axis_label = 'frequency'\n",
    "    aplanat.show(plot, background='#F4F4F4')\n",
    "\n",
    "\n",
    "plot_form = InputForm(\n",
    "    InputSpec(\"region\", \"Region\", \"chr1:5000000-10000000\"),\n",
    "    InputSpec(\"colour_by\", \"Colour by\",[\"mod. status\", \"orientation\", \"both\"]),\n",
    "    InputSpec(\"coverage_mask\", \"Coverage mask\", widgets.IntText(10)))\n",
    "plot_form.add_process_button(plot_callback)\n",
    "plot_form.display()"
   ]
  }
 ],
 "metadata": {
  "kernelspec": {
   "display_name": "nanopore_analysis",
   "language": "python",
   "name": "nanopore_jupyter"
  },
  "language_info": {
   "codemirror_mode": {
    "name": "ipython",
    "version": 3
   },
   "file_extension": ".py",
   "mimetype": "text/x-python",
   "name": "python",
   "nbconvert_exporter": "python",
   "pygments_lexer": "ipython3",
   "version": "3.11.0"
  }
 },
 "nbformat": 4,
 "nbformat_minor": 5
}
