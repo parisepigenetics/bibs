{
 "cells": [
  {
   "cell_type": "markdown",
   "id": "95d48492-6a14-4f0f-b184-2d8c9ab52ac6",
   "metadata": {},
   "source": [
    "# Basic QC \n",
    "from https://labs.epi2me.io/notebooks/Basic_QC_Tutorial.html\n",
    "\n",
    "You need to upload the `sequencing_summary.txt` of interest first.\n",
    "\n",
    "**Be sure to choose the kernel `Python 3.9` (upper right) to run this notebook.**\n",
    "\n",
    "You need ~10 G of RAM, the default value being 1 G, increase this value when starting Jupyter Hub. \n",
    "\n",
    "The first time you run a ONT workflow, you have to install `aplanat` and `epi2melabs` running the following cell after removing the #. "
   ]
  },
  {
   "cell_type": "code",
   "execution_count": null,
   "id": "0cd9f103-f5d1-441b-b7fa-f846e5fcc4f0",
   "metadata": {},
   "outputs": [],
   "source": [
    "#!pip install aplanat\n",
    "#!pip install epi2melabs"
   ]
  },
  {
   "cell_type": "code",
   "execution_count": null,
   "id": "3f189b16-b8fd-4855-b47b-f904259fcd95",
   "metadata": {},
   "outputs": [],
   "source": [
    "# Define the path to summary file\n",
    "summary_file = \"/shared/projects/edc_nanopore/sequencing_summary.txt\"\n",
    "\n",
    "# Define the name of the output Html report\n",
    "output_file=\"basicQC_20230608_E14_mouse_ES_WT_RRMS.html\""
   ]
  },
  {
   "cell_type": "code",
   "execution_count": null,
   "id": "b1382aeb-54e4-4156-9de9-5635c8be2c3b",
   "metadata": {
    "tags": []
   },
   "outputs": [],
   "source": [
    "import os\n",
    "import pandas as pd\n",
    "\n",
    "import aplanat\n",
    "import aplanat.report\n",
    "import aplanat.graphics\n",
    "from epi2melabs.notebook import InputForm, InputSpec\n",
    "\n",
    "import ipywidgets as widgets\n",
    "\n",
    "seq_summary = None\n",
    "exec_summary = None\n",
    "report = None\n",
    "\n",
    "def process_form(summary_file):\n",
    "    global seq_summary, exec_summary, report\n",
    "    # Read the file, use a tab ('\\t') as the separator between columns\n",
    "    print(\"Reading input file...\")\n",
    "    seq_summary = pd.read_csv(\n",
    "        summary_file, delimiter='\\t',\n",
    "        usecols=[\n",
    "            'channel', 'start_time', 'duration', 'passes_filtering',\n",
    "            'sequence_length_template', 'mean_qscore_template'])\n",
    "    # ensure the file is sorted by time and reset its\n",
    "    # indexing after doing so\n",
    "    seq_summary.sort_values('start_time', inplace=True)\n",
    "    seq_summary.reset_index(drop=True, inplace=True)\n",
    "    seq_summary = seq_summary\n",
    "    print(\"Done.\")\n",
    "\n",
    "    exec_summary = aplanat.graphics.InfoGraphItems()\n",
    "    report = aplanat.report.HTMLReport(\n",
    "        \"Basic QC\", \"EPI2ME Labs Summary\")\n",
    "    report.markdown(\"## Excutive summary\", key='exec-head')\n",
    "    report.plot(None, 'exec-plot')  # placeholder\n",
    "\n",
    "process_form(summary_file)"
   ]
  },
  {
   "cell_type": "code",
   "execution_count": null,
   "id": "69f21fbf-66c7-466a-8003-9fe62ce5bfb2",
   "metadata": {
    "tags": []
   },
   "outputs": [],
   "source": [
    "# Use the .head() method to check the contents of the dataframe \n",
    "seq_summary.head()"
   ]
  },
  {
   "cell_type": "code",
   "execution_count": null,
   "id": "262cf0e5-4169-4a0e-ab3e-3822e166e8cb",
   "metadata": {
    "tags": []
   },
   "outputs": [],
   "source": [
    "# Show the total number of reads\n",
    "print(\"The total number of reads is:\", len(seq_summary))\n",
    "\n",
    "# Group the rows of the dataframe by the value of the `passes_filtering` column\n",
    "# then ask the size of each group.\n",
    "pass_fail = seq_summary.groupby('passes_filtering').size()\n",
    "\n",
    "print(\"The number of pass reads is:\", pass_fail[True])\n",
    "print(\"The number of fail reads is:\", pass_fail[False])\n",
    "\n",
    "exec_summary.append('Total reads', pass_fail[True].sum(), 'angle-up', '')"
   ]
  },
  {
   "cell_type": "code",
   "execution_count": null,
   "id": "22b94c38-2aa2-4b38-bd2f-8dde23fc76ea",
   "metadata": {
    "tags": []
   },
   "outputs": [],
   "source": [
    "# Plotting pass and fail reads (click play)\n",
    "import aplanat\n",
    "from aplanat import bars\n",
    "\n",
    "pass_percentage = 100 * pass_fail[True] / len(seq_summary)\n",
    "values = [pass_percentage, 100 - pass_percentage]\n",
    "classes = ['Pass', 'Fail']\n",
    "colors = ['#54B8B1', '#EF4135']\n",
    "\n",
    "plot = bars.single_hbar(\n",
    "    values, classes, colors,\n",
    "    title=\"Pass / Fail reads\")\n",
    "plot.xaxis.axis_label = '%age Reads'\n",
    "aplanat.show(plot, background=\"#f4f4f4\")\n",
    "\n",
    "# add item to report\n",
    "report.markdown(\"\"\"\n",
    "## Pass/fail classification\n",
    "\n",
    "The run contained {} pass and {} fail reads for a total of {} reads.\n",
    "\"\"\".format(pass_fail[True], pass_fail[False], len(seq_summary)),\n",
    "    key=\"pass-fail-head\")\n",
    "report.plot(plot)"
   ]
  },
  {
   "cell_type": "code",
   "execution_count": null,
   "id": "91da78d5-049c-4a8d-ba71-343d130a7f5f",
   "metadata": {
    "tags": []
   },
   "outputs": [],
   "source": [
    "# Calculating mean and N50 read length\n",
    "\n",
    "# take the `sequence_length_template` column (the read lengths)\n",
    "# and sort them in ascending order\n",
    "sorted_lengths = seq_summary.sequence_length_template.sort_values(ascending=False).reset_index(drop=True)\n",
    "# calculate the cumulative sum of lengths\n",
    "cumulative_length = sorted_lengths.cumsum()\n",
    "# find the total number of bases and the mean length\n",
    "total_bases = cumulative_length.iloc[-1]\n",
    "mean_length = total_bases / len(seq_summary)\n",
    "# find the N50 length: the length for which half the reads are longer\n",
    "n50_index = cumulative_length.searchsorted(total_bases / 2)\n",
    "n50_length = sorted_lengths.iloc[n50_index]\n",
    "\n",
    "exec_summary.append('Total yield', total_bases, 'signal', 'b')\n",
    "exec_summary.append('Mean read length', mean_length, 'align-center', 'b')\n",
    "exec_summary.append('N50 read length', n50_length, 'align-left', 'b')\n",
    "\n",
    "report.markdown(\"\"\"\n",
    "## Read Lengths and yield\n",
    "\n",
    "The following graphics depict the read-length distribution in a variety\n",
    "of ways, see the tutorial for additional details.\n",
    "\"\"\",\n",
    "    key='length-yield-head')"
   ]
  },
  {
   "cell_type": "code",
   "execution_count": null,
   "id": "015b4da8-c655-45dd-8641-da84cd52be83",
   "metadata": {
    "tags": []
   },
   "outputs": [],
   "source": [
    "# Plotting the read length distribution (click play)\n",
    "# calculate counts for a histogram using numpy\n",
    "from aplanat import hist, annot\n",
    "from bokeh.models import Range1d\n",
    "\n",
    "datas = [seq_summary.sequence_length_template]\n",
    "plot = hist.histogram(datas, bins=4000, title=\"Read length distribution\", colors=['#0084A9'])\n",
    "# add vertical lines for mean and N50 read length\n",
    "annot.marker_vline(plot, mean_length, 'Mean: {:.0f}'.format(mean_length))\n",
    "annot.marker_vline(plot, n50_length, 'N50: {}'.format(n50_length), text_baseline='top')\n",
    "# add axis labels\n",
    "plot.xaxis.axis_label = 'Read Length / bases'\n",
    "plot.yaxis.axis_label = 'Number of reads'\n",
    "# limit the x axe\n",
    "plot.x_range=Range1d(0,5000)\n",
    "# show the plot\n",
    "aplanat.show(plot, background=\"#f4f4f4\")\n",
    "report.plot(plot, key='length-plain')"
   ]
  },
  {
   "cell_type": "code",
   "execution_count": null,
   "id": "e433cd21-045e-4db7-ae35-2571fe6a12f5",
   "metadata": {
    "tags": []
   },
   "outputs": [],
   "source": [
    "# Plotting read-length mass distribution (click play)\n",
    "from aplanat import hist, annot\n",
    "\n",
    "datas = [seq_summary.sequence_length_template]\n",
    "weights = [seq_summary.sequence_length_template.astype(float)]\n",
    "plot = hist.histogram(\n",
    "    datas, weights=weights,\n",
    "    normalize=True,\n",
    "    bins=4000, title=\"Read length distribution\",\n",
    "    colors = [\"#0084A9\"])\n",
    "# add vertical lines for mean and N50 read length\n",
    "annot.marker_vline(plot, mean_length, 'Mean: {:.0f}'.format(mean_length))\n",
    "annot.marker_vline(plot, n50_length, 'N50: {}'.format(n50_length), text_baseline='top')\n",
    "# add axis labels\n",
    "plot.xaxis.axis_label = 'Read Length / bases'\n",
    "plot.yaxis.axis_label = 'Base density'\n",
    "# limit the x axe\n",
    "plot.x_range=Range1d(0,5000)\n",
    "# show the plot\n",
    "aplanat.show(plot, background=\"#f4f4f4\")\n",
    "report.plot(plot, key='length-mass')"
   ]
  },
  {
   "cell_type": "code",
   "execution_count": null,
   "id": "eb9407e9-ab20-4818-be25-59cdcdd60c40",
   "metadata": {
    "tags": []
   },
   "outputs": [],
   "source": [
    "# Plotting cumulative yield by read length (click play)\n",
    "from aplanat import lines\n",
    "\n",
    "x = sorted_lengths[0:-1:10000]\n",
    "y = cumulative_length[0:-1:10000] / 1e9\n",
    "plot = lines.line([x], [y], xlim=(0, None), ylim=(0, None),\n",
    "    title='Base yield above given read length',\n",
    "    colors = [\"#0084A9\"])\n",
    "plot.xaxis.axis_label = 'Read Length / bases'\n",
    "plot.yaxis.axis_label = 'Yield above length / Gbases'\n",
    "# limit the x axe\n",
    "plot.x_range=Range1d(0,5000)\n",
    "# show the plot\n",
    "aplanat.show(plot, background=\"#f4f4f4\")\n",
    "report.plot(plot, 'yield-length')"
   ]
  },
  {
   "cell_type": "code",
   "execution_count": null,
   "id": "2dc1e5b2-5a85-4894-b5e6-6bb180f398a7",
   "metadata": {
    "tags": []
   },
   "outputs": [],
   "source": [
    "# Histogram of read quality (click play)\n",
    "\n",
    "passes = seq_summary['passes_filtering']\n",
    "datas = [\n",
    "    seq_summary.loc[passes == status]['mean_qscore_template']\n",
    "    for status in [True, False]]\n",
    "plot = hist.histogram(\n",
    "    datas, colors=['#54B8B1', '#EF4135'],\n",
    "    names=['Pass', 'Fail'], bins=200, xlim=(1, None),\n",
    "    title=\"Read quality score distribution\")\n",
    "plot.xaxis.axis_label = 'Read Quality Score'\n",
    "plot.yaxis.axis_label = 'Count reads / M'\n",
    "aplanat.show(plot, background=\"#f4f4f4\")\n",
    "\n",
    "pass_mean_qscore = seq_summary[seq_summary['passes_filtering'] == True][\"mean_qscore_template\"].mean()\n",
    "exec_summary.append('Mean qscore (pass)', pass_mean_qscore, 'thumbs-up', '')\n",
    "\n",
    "report.markdown(\"\"\"\n",
    "## Read quality\n",
    "\n",
    "Distribution of read quality for pass and fail reads.\n",
    "\"\"\", key='qual-head')\n",
    "report.plot(plot, key='qual-plot')"
   ]
  },
  {
   "cell_type": "code",
   "execution_count": null,
   "id": "23564229-1341-4ce7-906e-4ad91a5ccdc0",
   "metadata": {
    "tags": []
   },
   "outputs": [],
   "source": [
    "def process_form(discretize):\n",
    "    seq_summary['time'] = (seq_summary['start_time'] / 60 / discretize).astype(int)\n",
    "    # group the data by quarter hour and pass/fail\n",
    "    groups = seq_summary.groupby(['passes_filtering', 'time'], as_index=False)\n",
    "    # sum the bases per group\n",
    "    throughput = groups['sequence_length_template'].agg('sum')\n",
    "\n",
    "    data = [\n",
    "        throughput[throughput.passes_filtering == status]\n",
    "        for status in [True, False]]\n",
    "    plot = lines.line(\n",
    "        [d.time / (60 / discretize) for d in data],\n",
    "        [d.sequence_length_template / discretize / 1e6 for d in data],\n",
    "        names=['Pass', 'Fail'],\n",
    "        colors=['#54B8B1', '#EF4135'],\n",
    "        xlim=(0,None), ylim=(0, None),\n",
    "        title='Throughput',\n",
    "        x_axis_label = 'time / hr',\n",
    "        y_axis_label = 'yield / Gbases')\n",
    "    aplanat.show(plot, background=\"#f4f4f4\")\n",
    "\n",
    "    report.markdown(\"\"\"\n",
    "    ## Performance through time\n",
    "\n",
    "    The following charts illustrate read, yield, and flowcell performance through\n",
    "    the course of the sequencing experiment.\n",
    "    \"\"\", key='time-head')\n",
    "    report.plot(plot, key='yield-time-plot')\n",
    "\n",
    "# define the time step (1-60 minutes)\n",
    "discretize = 5\n",
    "\n",
    "process_form(discretize)\n"
   ]
  },
  {
   "cell_type": "code",
   "execution_count": null,
   "id": "44a5e4f2-2488-4935-aa17-a6a1c1d3270f",
   "metadata": {
    "tags": []
   },
   "outputs": [],
   "source": [
    "# Plotting base yield through time (click play)\n",
    "\n",
    "# group the data by pass/fail\n",
    "groups = seq_summary.set_index(['passes_filtering']).groupby(level=0, as_index=False)\n",
    "# calculate a cumulative sum of the number of bases sequenced (per group)\n",
    "sum_tp = groups['sequence_length_template'].cumsum().reset_index()\n",
    "# attach the start times from the original table\n",
    "sum_tp['start_time'] = seq_summary['start_time']\n",
    "\n",
    "data = [\n",
    "    sum_tp[::1000][sum_tp[::1000].passes_filtering == status]\n",
    "    for status in [True, False]]\n",
    "plot = lines.line(\n",
    "    [d.start_time / 3600 for d in data],\n",
    "    [d.sequence_length_template / 1e9 for d in data],\n",
    "    names=['Pass', 'Fail'],\n",
    "    colors=['#54B8B1', '#EF4135'],\n",
    "    xlim=(0,None), ylim=(0, None),\n",
    "    title='Cumulative yield',\n",
    "    x_axis_label = 'time / hr',\n",
    "    y_axis_label = 'yield / Gbases')\n",
    "aplanat.show(plot, background=\"#f4f4f4\")\n",
    "report.plot(plot, key='yield-time-plot')"
   ]
  },
  {
   "cell_type": "code",
   "execution_count": null,
   "id": "87309584-2f50-4d99-af88-e3237d00d4a5",
   "metadata": {
    "tags": []
   },
   "outputs": [],
   "source": [
    "# Plotting Sequencing speed plot (click play)\n",
    "from bokeh import layouts\n",
    "hour = (seq_summary.start_time / 3600).astype(int)\n",
    "speed = seq_summary.sequence_length_template / seq_summary.duration\n",
    "spd_plot = bars.boxplot_series(\n",
    "    hour, speed, title='Sequencing speed',\n",
    "    x_axis_label = 'time / hr',\n",
    "    y_axis_label = 'speed / (bases / s)')\n",
    "\n",
    "length = seq_summary.sequence_length_template \n",
    "len_plot = bars.boxplot_series(\n",
    "    hour, length, title='Sequencing Lengths',\n",
    "    x_axis_label='time / hr',\n",
    "    y_axis_label='read length / bases')\n",
    "len_plot.x_range=spd_plot.x_range\n",
    "# limit the x axe\n",
    "len_plot.y_range=Range1d(0,3000)\n",
    "\n",
    "p = layouts.column(spd_plot, len_plot)\n",
    "aplanat.show(p, background=\"#f4f4f4\")\n",
    "report.plot(p, key='speed-length-boxplots')"
   ]
  },
  {
   "cell_type": "code",
   "execution_count": null,
   "id": "91a6261a-5e69-4b34-bf37-08b4c41b8930",
   "metadata": {
    "tags": []
   },
   "outputs": [],
   "source": [
    "def process_form(discretize):\n",
    "    # calculate a start time for each read rounded to discretize minutes\n",
    "    seq_summary['time'] = (seq_summary['start_time'] / 60 / discretize).astype(int)\n",
    "    # group the data by quarter hour\n",
    "    groups = seq_summary.groupby('time', as_index=False)\n",
    "    # count the unique channels in each 5 minutes\n",
    "    chan_counts = groups['channel'].apply(lambda x: len(x.unique()))\n",
    "    hours = chan_counts.index / (60 / discretize)\n",
    "\n",
    "    plot = lines.line(\n",
    "        [hours],\n",
    "        [chan_counts['channel']],\n",
    "        xlim=(0,None), ylim=(0, None),\n",
    "        title='Functional channels ({}min period)'.format(discretize),\n",
    "        x_axis_label = 'time / hr',\n",
    "        y_axis_label = 'active channels',\n",
    "        colors = [\"#0084A9\"])\n",
    "    aplanat.show(plot, background=\"#f4f4f4\")\n",
    "    report.plot(plot, 'active-channels-plot')\n",
    "\n",
    "\n",
    "# define the time step (1-60 minutes)\n",
    "discretize = 5\n",
    "\n",
    "process_form(discretize)\n"
   ]
  },
  {
   "cell_type": "code",
   "execution_count": null,
   "id": "3f835696-00c5-47d4-a662-be9163206ae9",
   "metadata": {
    "tags": []
   },
   "outputs": [],
   "source": [
    "# Calculating spatial position of channels on flowcells (click play)\n",
    "import numpy as np\n",
    "def minion_array():\n",
    "    # The array is composed of blocks of 64 channels, the low\n",
    "    # halve is to the right (high to left), working inwards\n",
    "    # in a 4 x 8 block\n",
    "    def channel_block(i):\n",
    "        m = np.zeros((4, 16), dtype=int)\n",
    "        m[4::-1, :7:-1] = np.arange(i, i + 32).reshape(4, 8)\n",
    "        m[4::-1, 0:8] = np.arange(i + 32, i + 64).reshape(4, 8)\n",
    "        return m\n",
    "    # the blocks ascend from high to low, except the\n",
    "    # lowest block is at the top\n",
    "    first_channel = list(range(65, 450, 64)) + [1]\n",
    "    channel_array = np.vstack([channel_block(x) for x in first_channel])\n",
    "    ca = pd.DataFrame(channel_array).reset_index().melt('index')\n",
    "    ca.columns = ['row', 'column', 'channel']\n",
    "    return ca\n",
    "\n",
    "def flongle_array():\n",
    "    # channels are in a simple grid except two upper- and\n",
    "    # lower-most channels on right-hand column are missing\n",
    "    channel_array = np.concatenate([\n",
    "        np.arange(1, 13), np.array([0]),\n",
    "        np.arange(13, 25), np.array([0]),\n",
    "        np.arange(25, 115), np.array([0]),\n",
    "        np.arange(115, 127), np.array([0])]).reshape(10, 13)\n",
    "    ca = pd.DataFrame(channel_array).reset_index().melt('index')\n",
    "    ca.columns = ['row', 'column', 'channel']\n",
    "    return ca\n",
    "\n",
    "def promethion_array():\n",
    "    # Array is simple blocks of 25*10 channels\n",
    "    channel_array = np.hstack([\n",
    "        np.arange(x, x + 250).reshape(25, 10)\n",
    "        for x in range(1, 2752, 250)])\n",
    "    ca = pd.DataFrame(channel_array).reset_index().melt('index')\n",
    "    ca.columns = ['row', 'column', 'channel']\n",
    "    return ca\n",
    "\n",
    "def guess_device(max_channel):\n",
    "    device = \"minion\"\n",
    "    if max_channel > 512:\n",
    "        device = \"promethion\"\n",
    "    if max_channel <= 130:\n",
    "        device = \"flongle\"\n",
    "    return device\n",
    "\n",
    "channel_maps = {\n",
    "    'minion': minion_array(),\n",
    "    'flongle': flongle_array(),\n",
    "    'promethion': promethion_array()}"
   ]
  },
  {
   "cell_type": "code",
   "execution_count": null,
   "id": "3ffab398-e544-475b-aa14-93800ea85c7e",
   "metadata": {
    "tags": []
   },
   "outputs": [],
   "source": [
    "device = guess_device(seq_summary['channel'].max())\n",
    "channel_map = channel_maps[device]\n",
    "\n",
    "# count pass reads per channel...\n",
    "counts = seq_summary[seq_summary['passes_filtering']] \\\n",
    "    .groupby('channel') \\\n",
    "    .size().to_frame('reads') \\\n",
    "    .reset_index()\n",
    "# ...and merge with the channel map\n",
    "counts = counts.merge(channel_map, on='channel', how='outer').fillna(0)"
   ]
  },
  {
   "cell_type": "code",
   "execution_count": null,
   "id": "9bd83a2a-8227-4b6a-bfbc-8415b83571f0",
   "metadata": {
    "tags": []
   },
   "outputs": [],
   "source": [
    "# Plotting activity heat-map plot (click play)\n",
    "from aplanat import spatial\n",
    "\n",
    "plot = spatial.heatmap(\n",
    "    counts['column'], counts['row'], counts['reads'],\n",
    "    name='# reads')\n",
    "aplanat.show(plot, background=\"#f4f4f4\")\n",
    "report.markdown(\"### Active channels\", key='active-channels-head')\n",
    "report.plot(plot, key='active-channels-heat')"
   ]
  },
  {
   "cell_type": "code",
   "execution_count": null,
   "id": "42db1170-b78a-4fc6-8bf2-9b0a38e736cd",
   "metadata": {
    "tags": []
   },
   "outputs": [],
   "source": [
    "# Executive summary (click play)\n",
    "exec_plot = aplanat.graphics.infographic(exec_summary.values(), ncols=3)\n",
    "aplanat.show(exec_plot, background=\"#f4f4f4\")\n",
    "report.plot(exec_plot, key='exec-plot')\n",
    "\n",
    "fname = os.path.join(os.path.dirname(summary_file), output_file)\n",
    "report.write(fname)\n",
    "print(\"Report written to: {}.\".format(fname))"
   ]
  },
  {
   "cell_type": "code",
   "execution_count": null,
   "id": "4d80c37c-bb33-4fb5-b948-8c10a5b45162",
   "metadata": {},
   "outputs": [],
   "source": []
  }
 ],
 "metadata": {
  "kernelspec": {
   "display_name": "Python 3.9",
   "language": "python",
   "name": "python3.9"
  },
  "language_info": {
   "codemirror_mode": {
    "name": "ipython",
    "version": 3
   },
   "file_extension": ".py",
   "mimetype": "text/x-python",
   "name": "python",
   "nbconvert_exporter": "python",
   "pygments_lexer": "ipython3",
   "version": "3.9.13"
  }
 },
 "nbformat": 4,
 "nbformat_minor": 5
}
